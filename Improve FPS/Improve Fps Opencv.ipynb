{
 "cells": [
  {
   "cell_type": "code",
   "execution_count": 1,
   "metadata": {},
   "outputs": [],
   "source": [
    "from threading import Thread\n",
    "import sys\n",
    "import cv2\n",
    "from queue import Queue\n"
   ]
  },
  {
   "cell_type": "code",
   "execution_count": 2,
   "metadata": {},
   "outputs": [],
   "source": [
    "from imutils.video import FileVideoStream\n",
    "from imutils.video import FPS\n",
    "import numpy as np\n",
    "import argparse\n",
    "import imutils\n",
    "import time\n",
    "import cv2\n",
    "from datetime import datetime\n",
    "\n"
   ]
  },
  {
   "cell_type": "code",
   "execution_count": 3,
   "metadata": {},
   "outputs": [],
   "source": [
    "class Counts:\n",
    "    def __init__(self):\n",
    "        self._start_time=None\n",
    "        self._num_occurences=0\n",
    "        \n",
    "    def start(self):\n",
    "        self._start_time=datetime.now()\n",
    "        return self\n",
    "        \n",
    "    def increment(self):\n",
    "        self._num_occurences+=1\n",
    "        \n",
    "\n",
    "        \n",
    "    def countsPerSec(self):\n",
    "        elapsed_time= (datetime.now()-self._start_time).total_seconds()\n",
    "        if elapsed_time!=0:\n",
    "            return self._num_occurences/elapsed_time\n",
    "        else:\n",
    "            return self._num_occurences/1\n"
   ]
  },
  {
   "cell_type": "code",
   "execution_count": 4,
   "metadata": {},
   "outputs": [],
   "source": [
    "def putIterationsPerSec(frame, iterations_per_sec):\n",
    "    cv2.putText(frame,\"{:.0f} iterations/sec\".format(iterations_per_sec),\n",
    "               (10,450),cv2.FONT_HERSHEY_SIMPLEX,1.0,(255,255,255))\n",
    "    return frame"
   ]
  },
  {
   "cell_type": "code",
   "execution_count": 5,
   "metadata": {},
   "outputs": [],
   "source": [
    "def noThreading(source=0):\n",
    "    cap=cv2.VideoCapture(source)\n",
    "    cps=Counts().start()\n",
    "    \n",
    "    while True:\n",
    "        (grabbed,frame)=cap.read()\n",
    "        if not grabbed or cv2.waitKey(1)==ord(\"q\"):\n",
    "            break\n",
    "        frame= putIterationsPerSec(frame,  cps.countsPerSec())\n",
    "        cv2.imshow(\"Video\",frame)\n",
    "        cps.increment()\n",
    "        \n",
    "    cap.release()\n",
    "    cv2.destroyAllWindows()\n",
    "    \n",
    "    "
   ]
  },
  {
   "cell_type": "code",
   "execution_count": 6,
   "metadata": {},
   "outputs": [],
   "source": [
    "#noThreading('Facial Mask Predictor\\Samples\\masks_video.mp4')"
   ]
  },
  {
   "cell_type": "code",
   "execution_count": 7,
   "metadata": {},
   "outputs": [],
   "source": [
    "from threading import Thread\n",
    "import cv2\n",
    "\n",
    "class VideoGet:\n",
    "    def __init__(self,src=0):\n",
    "        self.stream=cv2.VideoCapture(src)\n",
    "        self.grabbed,self.frame= self.stream.read()\n",
    "\n",
    "        self.stopped=False\n",
    "    \n",
    "    def start(self):\n",
    "        Thread(target=self.get, args=()).start()\n",
    "        return self\n",
    "    \n",
    "    def get(self):\n",
    "        while not self.stopped:\n",
    "            if not self.grabbed:\n",
    "                self.stop()\n",
    "                \n",
    "            else:\n",
    "                (self.grabbed, self.frame)=self.stream.read()\n",
    "    \n",
    "    def stop(self):\n",
    "        self.stopped= True\n",
    "                "
   ]
  },
  {
   "cell_type": "code",
   "execution_count": 8,
   "metadata": {},
   "outputs": [],
   "source": [
    "class VideoShow:\n",
    "    def __init__(self,frame=None):\n",
    "        self.frame =frame\n",
    "        self.stopped =False\n",
    "        \n",
    "    def start(self):\n",
    "        Thread(target=self.show, args=()).start()\n",
    "        return self\n",
    "        \n",
    "    def show(self):\n",
    "        while not self.stopped:\n",
    "            cv2.imshow(\"Video\", self.frame)\n",
    "            if cv2.waitKey(1)==ord(\"q\"):\n",
    "                self.stopped = True            \n",
    "    def stop(self):\n",
    "        self.stopped =True\n",
    "        "
   ]
  },
  {
   "cell_type": "code",
   "execution_count": 9,
   "metadata": {},
   "outputs": [],
   "source": [
    "def threadVideoGet(source=0):\n",
    "    video_getter=VideoGet(source).start()\n",
    "    cps=Counts().start()\n",
    "    \n",
    "    while True:\n",
    "        if cv2.waitKey(1)==ord(\"q\") or video_getter.stopped:\n",
    "            video_getter.stop()\n",
    "            break\n",
    "        frame=video_getter.frame\n",
    "        frame=putIterationsPerSec(frame,cps.countsPerSec())\n",
    "\n",
    "        cv2.imshow(\"Video\",frame)\n",
    "        cps.increment()\n",
    "    \n",
    "    \n",
    "    cv2.destroyAllWindows()\n",
    "    \n",
    "    "
   ]
  },
  {
   "cell_type": "code",
   "execution_count": 10,
   "metadata": {},
   "outputs": [],
   "source": [
    "def threadVideoShow(source=0):\n",
    "    cap=cv2.VideoCapture(source)\n",
    "    grabbed,frame=cap.read()\n",
    "    video_shower=VideoShow(frame).start()\n",
    "    cps=Counts().start()\n",
    "\n",
    "    while True:\n",
    "        grabbed,frame= cap.read()\n",
    "        if not grabbed or video_shower.stopped:\n",
    "            video_shower.stop()\n",
    "            break\n",
    "        \n",
    "        frame=putIterationsPerSec(frame,cps.countsPerSec())\n",
    "        video_shower.frame=frame\n",
    "        \n",
    "        cps.increment()\n",
    "    \n",
    "    \n",
    "    cv2.destroyAllWindows()\n",
    "    \n",
    "    "
   ]
  },
  {
   "cell_type": "code",
   "execution_count": 11,
   "metadata": {},
   "outputs": [],
   "source": [
    "threadVideoGet(\"Facial Mask Predictor\\Samples\\masks_video.mp4\")\n",
    "threadVideoShow(\"Facial Mask Predictor\\Samples\\masks_video.mp4\")"
   ]
  },
  {
   "cell_type": "code",
   "execution_count": 12,
   "metadata": {},
   "outputs": [],
   "source": [
    "def threadBoth(source=0):\n",
    "    video_getter=VideoGet(source).start()\n",
    "    video_shower=VideoShow(video_getter.frame).start()\n",
    "    \n",
    "    cps=Counts().start()\n",
    "    while True:\n",
    "        if video_getter.stopped or video_shower.stopped:\n",
    "            video_shower.stop()\n",
    "            video_getter.stop()\n",
    "            break\n",
    "            \n",
    "        frame= video_getter.frame\n",
    "        frame= putIterationsPerSec(frame, cps.countsPerSec())\n",
    "        video_shower.frame=frame\n",
    "        \n",
    "        cps.increment()\n",
    "        \n",
    "        \n",
    "    cv2.destroyAllWindows()"
   ]
  },
  {
   "cell_type": "code",
   "execution_count": 13,
   "metadata": {},
   "outputs": [],
   "source": [
    "threadBoth(\"Facial Mask Predictor\\Samples\\masks_video.mp4\")"
   ]
  }
 ],
 "metadata": {
  "kernelspec": {
   "display_name": "Python 3",
   "language": "python",
   "name": "python3"
  },
  "language_info": {
   "codemirror_mode": {
    "name": "ipython",
    "version": 3
   },
   "file_extension": ".py",
   "mimetype": "text/x-python",
   "name": "python",
   "nbconvert_exporter": "python",
   "pygments_lexer": "ipython3",
   "version": "3.7.4"
  }
 },
 "nbformat": 4,
 "nbformat_minor": 2
}
